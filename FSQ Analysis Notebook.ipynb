{
 "cells": [
  {
   "cell_type": "code",
   "execution_count": 2,
   "metadata": {
    "collapsed": true
   },
   "outputs": [],
   "source": [
    "#we already have a db service running @ localhost:27017\n",
    "from pymongo import MongoClient\n",
    "\n",
    "#for dataframe usage\n",
    "import pandas as pd\n",
    "import numpy as np\n",
    "\n",
    "#for visualization\n",
    "import matplotlib.pyplot as plt\n",
    "%matplotlib inline\n",
    "import seaborn as sns\n",
    "\n",
    "#"
   ]
  },
  {
   "cell_type": "code",
   "execution_count": 150,
   "metadata": {
    "collapsed": true
   },
   "outputs": [],
   "source": [
    "client = MongoClient('mongodb://localhost:27017/')\n",
    "db= client['dbmg']"
   ]
  },
  {
   "cell_type": "markdown",
   "metadata": {},
   "source": [
    "### Tables\n",
    "\n",
    "* checkins\n",
    "* ratings\n",
    "* socialgraph\n",
    "* users\n",
    "* venues"
   ]
  },
  {
   "cell_type": "code",
   "execution_count": 7,
   "metadata": {
    "collapsed": true
   },
   "outputs": [],
   "source": [
    "# we will use mongo structure to sample\n",
    "# { $sample: { size: <positive integer> } }\n",
    "\n",
    "\n",
    "#to transform mondgodb query to pandas dataframe, save list() of coll.find()\n",
    "#then pass that variable through pd.DataFrame()\n",
    "def sample_table(table, sample_size):\n",
    "    \n",
    "    query = { '$sample' : { 'size' : sample_size }} \n",
    "    \n",
    "    cursor_list = list(db[table].aggregate([query]))\n",
    "    df = pd.DataFrame(cursor_list)\n",
    "    \n",
    "    return(df)"
   ]
  },
  {
   "cell_type": "code",
   "execution_count": 151,
   "metadata": {
    "collapsed": true
   },
   "outputs": [],
   "source": [
    "#sample of each df for review\n",
    "checkins = sample_table('checkins', 1000)\n",
    "ratings = sample_table('ratings', 1000)\n",
    "socialgraph = sample_table('socialgraph', 100000)\n",
    "users = sample_table('users', 1000)\n",
    "venues = sample_table('venues', 1000)"
   ]
  },
  {
   "cell_type": "code",
   "execution_count": 116,
   "metadata": {},
   "outputs": [
    {
     "data": {
      "text/html": [
       "<div>\n",
       "<table border=\"1\" class=\"dataframe\">\n",
       "  <thead>\n",
       "    <tr style=\"text-align: right;\">\n",
       "      <th></th>\n",
       "      <th></th>\n",
       "      <th>_id</th>\n",
       "      <th>created_at</th>\n",
       "      <th>id</th>\n",
       "      <th>latitude</th>\n",
       "      <th>longitude</th>\n",
       "      <th>user_id</th>\n",
       "      <th>venue_id</th>\n",
       "    </tr>\n",
       "  </thead>\n",
       "  <tbody>\n",
       "    <tr>\n",
       "      <th>0</th>\n",
       "      <td>390026</td>\n",
       "      <td>59922811ef1d5d90234fe0c6</td>\n",
       "      <td>2012-01-25 20:22:58</td>\n",
       "      <td>465826</td>\n",
       "      <td>27.9494</td>\n",
       "      <td>-82.4651</td>\n",
       "      <td>778202.0</td>\n",
       "      <td>1206.0</td>\n",
       "    </tr>\n",
       "  </tbody>\n",
       "</table>\n",
       "</div>"
      ],
      "text/plain": [
       "                                _id           created_at      id latitude  \\\n",
       "0  390026  59922811ef1d5d90234fe0c6  2012-01-25 20:22:58  465826  27.9494   \n",
       "\n",
       "  longitude   user_id  venue_id  \n",
       "0  -82.4651  778202.0    1206.0  "
      ]
     },
     "execution_count": 116,
     "metadata": {},
     "output_type": "execute_result"
    }
   ],
   "source": [
    "checkins.head(1)"
   ]
  },
  {
   "cell_type": "code",
   "execution_count": 117,
   "metadata": {},
   "outputs": [
    {
     "data": {
      "text/html": [
       "<div>\n",
       "<table border=\"1\" class=\"dataframe\">\n",
       "  <thead>\n",
       "    <tr style=\"text-align: right;\">\n",
       "      <th></th>\n",
       "      <th></th>\n",
       "      <th>_id</th>\n",
       "      <th>rating</th>\n",
       "      <th>user_id</th>\n",
       "      <th>venue_id</th>\n",
       "    </tr>\n",
       "  </thead>\n",
       "  <tbody>\n",
       "    <tr>\n",
       "      <th>0</th>\n",
       "      <td>230749</td>\n",
       "      <td>5992281aef1d5d90235d0e09</td>\n",
       "      <td>2.0</td>\n",
       "      <td>17863</td>\n",
       "      <td>777721.0</td>\n",
       "    </tr>\n",
       "  </tbody>\n",
       "</table>\n",
       "</div>"
      ],
      "text/plain": [
       "                                _id  rating  user_id  venue_id\n",
       "0  230749  5992281aef1d5d90235d0e09     2.0    17863  777721.0"
      ]
     },
     "execution_count": 117,
     "metadata": {},
     "output_type": "execute_result"
    }
   ],
   "source": [
    "ratings.head(1)"
   ]
  },
  {
   "cell_type": "code",
   "execution_count": 119,
   "metadata": {},
   "outputs": [
    {
     "data": {
      "text/html": [
       "<div>\n",
       "<table border=\"1\" class=\"dataframe\">\n",
       "  <thead>\n",
       "    <tr style=\"text-align: right;\">\n",
       "      <th></th>\n",
       "      <th></th>\n",
       "      <th>_id</th>\n",
       "      <th>first_user_id</th>\n",
       "      <th>second_user_id</th>\n",
       "    </tr>\n",
       "  </thead>\n",
       "  <tbody>\n",
       "    <tr>\n",
       "      <th>0</th>\n",
       "      <td>18003600</td>\n",
       "      <td>599228b9ef1d5d9023976ea3</td>\n",
       "      <td>935</td>\n",
       "      <td>1029295.0</td>\n",
       "    </tr>\n",
       "  </tbody>\n",
       "</table>\n",
       "</div>"
      ],
      "text/plain": [
       "                                  _id  first_user_id  second_user_id\n",
       "0  18003600  599228b9ef1d5d9023976ea3            935       1029295.0"
      ]
     },
     "execution_count": 119,
     "metadata": {},
     "output_type": "execute_result"
    }
   ],
   "source": [
    "socialgraph.head(1)"
   ]
  },
  {
   "cell_type": "code",
   "execution_count": 120,
   "metadata": {},
   "outputs": [
    {
     "data": {
      "text/html": [
       "<div>\n",
       "<table border=\"1\" class=\"dataframe\">\n",
       "  <thead>\n",
       "    <tr style=\"text-align: right;\">\n",
       "      <th></th>\n",
       "      <th></th>\n",
       "      <th>_id</th>\n",
       "      <th>id</th>\n",
       "      <th>latitude</th>\n",
       "      <th>longitude</th>\n",
       "    </tr>\n",
       "  </thead>\n",
       "  <tbody>\n",
       "    <tr>\n",
       "      <th>0</th>\n",
       "      <td>498063</td>\n",
       "      <td>59922906ef1d5d902329f49e</td>\n",
       "      <td>1971104</td>\n",
       "      <td>38.8339</td>\n",
       "      <td>-104.821</td>\n",
       "    </tr>\n",
       "  </tbody>\n",
       "</table>\n",
       "</div>"
      ],
      "text/plain": [
       "                                _id       id latitude longitude\n",
       "0  498063  59922906ef1d5d902329f49e  1971104  38.8339  -104.821"
      ]
     },
     "execution_count": 120,
     "metadata": {},
     "output_type": "execute_result"
    }
   ],
   "source": [
    "users.head(1)"
   ]
  },
  {
   "cell_type": "code",
   "execution_count": 121,
   "metadata": {},
   "outputs": [
    {
     "data": {
      "text/html": [
       "<div>\n",
       "<table border=\"1\" class=\"dataframe\">\n",
       "  <thead>\n",
       "    <tr style=\"text-align: right;\">\n",
       "      <th></th>\n",
       "      <th></th>\n",
       "      <th>_id</th>\n",
       "      <th>id</th>\n",
       "      <th>latitude</th>\n",
       "      <th>longitude</th>\n",
       "    </tr>\n",
       "  </thead>\n",
       "  <tbody>\n",
       "    <tr>\n",
       "      <th>0</th>\n",
       "      <td>757431</td>\n",
       "      <td>5992291def1d5d90234ecf36</td>\n",
       "      <td>148615</td>\n",
       "      <td>30.320767</td>\n",
       "      <td>-81.460544</td>\n",
       "    </tr>\n",
       "  </tbody>\n",
       "</table>\n",
       "</div>"
      ],
      "text/plain": [
       "                                _id      id   latitude  longitude\n",
       "0  757431  5992291def1d5d90234ecf36  148615  30.320767 -81.460544"
      ]
     },
     "execution_count": 121,
     "metadata": {},
     "output_type": "execute_result"
    }
   ],
   "source": [
    "venues.head(1)"
   ]
  },
  {
   "cell_type": "code",
   "execution_count": 42,
   "metadata": {
    "collapsed": true
   },
   "outputs": [],
   "source": [
    "# plt.hist(ratings['rating'])"
   ]
  },
  {
   "cell_type": "code",
   "execution_count": 46,
   "metadata": {
    "collapsed": true
   },
   "outputs": [],
   "source": [
    "#when do people check in\n",
    "#correlation between peoples checkins and friends?\n",
    "#correlation between peoples checkins and average rating?\n",
    "#"
   ]
  },
  {
   "cell_type": "markdown",
   "metadata": {},
   "source": [
    "### What Days Do People Use FSQ Checkin?"
   ]
  },
  {
   "cell_type": "code",
   "execution_count": 43,
   "metadata": {
    "collapsed": true
   },
   "outputs": [],
   "source": [
    "day_key = {\n",
    "    0 : 'monday',\n",
    "    1 : 'tuesday',\n",
    "    2 : 'wednesday',\n",
    "    3 : 'thursday',\n",
    "    4 : 'friday',\n",
    "    5 : 'saturday',\n",
    "    6 : 'sunday'\n",
    "}\n",
    "\n",
    "day_of_week = []\n",
    "\n",
    "\n",
    "for day in pd.to_datetime(checkins.created_at):\n",
    "    x = day.weekday()\n",
    "    day_of_week.append(day_key[x])"
   ]
  },
  {
   "cell_type": "code",
   "execution_count": 44,
   "metadata": {
    "collapsed": true
   },
   "outputs": [],
   "source": [
    "dow = (pd.DataFrame(day_of_week))"
   ]
  },
  {
   "cell_type": "code",
   "execution_count": 45,
   "metadata": {},
   "outputs": [
    {
     "data": {
      "text/plain": [
       "saturday     232\n",
       "sunday       201\n",
       "monday       192\n",
       "friday       190\n",
       "tuesday       94\n",
       "wednesday     52\n",
       "thursday      39\n",
       "Name: 0, dtype: int64"
      ]
     },
     "execution_count": 45,
     "metadata": {},
     "output_type": "execute_result"
    }
   ],
   "source": [
    "dow[0].value_counts()"
   ]
  },
  {
   "cell_type": "markdown",
   "metadata": {},
   "source": [
    "### Shape of Friends"
   ]
  },
  {
   "cell_type": "code",
   "execution_count": 52,
   "metadata": {},
   "outputs": [
    {
     "data": {
      "text/plain": [
       "<function numpy.core.multiarray.count_nonzero>"
      ]
     },
     "execution_count": 52,
     "metadata": {},
     "output_type": "execute_result"
    }
   ],
   "source": [
    "np.count_nonzero"
   ]
  },
  {
   "cell_type": "code",
   "execution_count": 139,
   "metadata": {
    "collapsed": true
   },
   "outputs": [],
   "source": [
    "table = pd.pivot_table(socialgraph, values='second_user_id', index=['first_user_id'],\n",
    "         aggfunc=np.count_nonzero)"
   ]
  },
  {
   "cell_type": "code",
   "execution_count": null,
   "metadata": {},
   "outputs": [],
   "source": []
  },
  {
   "cell_type": "code",
   "execution_count": 76,
   "metadata": {
    "collapsed": true
   },
   "outputs": [],
   "source": [
    "table_desc = table.sort_values(ascending=False)\n",
    "table_desc = table_desc[table_desc > 0]"
   ]
  },
  {
   "cell_type": "code",
   "execution_count": 84,
   "metadata": {},
   "outputs": [
    {
     "data": {
      "text/plain": [
       "Int64Index([   754,     56,     50,    512,     59,   1334,     47,     58,\n",
       "                40,   1269,     52,   3089,    187,    204,   3935,     38,\n",
       "              3097,    935,   2866,   1030,   1031,   2787,   4489,    465,\n",
       "               101,     45,   2844,   2035,   1259,   3765,  74276,    625,\n",
       "            148732,   4061,     48,   2474,    732,   3876,    756,  33514,\n",
       "             71690, 147833, 147878,   3600,  70881,   3107, 148785,   4495,\n",
       "               640,    307,  70006,   2403,   1396,  91587,    254,  26012,\n",
       "               678,   1005,    910,   4091,    485,   2493,     61,   3657,\n",
       "              4430, 147964,   4447,   1977,   3009,   1093,   2052,   4582,\n",
       "            144267,   3893,   4330,   1897,  93222,  32939, 146734, 147609,\n",
       "              3628,   3561, 148026,   3884,    281,  31195,    203,  90251,\n",
       "              1328,    635,   2138,   1780,   4629,   2640,   4592,  71427,\n",
       "              1658,  54953,    264,   3172],\n",
       "           dtype='int64', name='first_user_id')"
      ]
     },
     "execution_count": 84,
     "metadata": {},
     "output_type": "execute_result"
    }
   ],
   "source": [
    "table_desc.head(10)"
   ]
  },
  {
   "cell_type": "code",
   "execution_count": 104,
   "metadata": {},
   "outputs": [
    {
     "name": "stderr",
     "output_type": "stream",
     "text": [
      "/anaconda/lib/python3.6/site-packages/statsmodels/nonparametric/kdetools.py:20: VisibleDeprecationWarning: using a non-integer number instead of an integer will result in an error in the future\n",
      "  y = X[:m/2+1] + np.r_[0,X[m/2+1:],0]*1j\n"
     ]
    },
    {
     "data": {
      "text/plain": [
       "<matplotlib.axes._subplots.AxesSubplot at 0x1292b7cf8>"
      ]
     },
     "execution_count": 104,
     "metadata": {},
     "output_type": "execute_result"
    },
    {
     "data": {
      "image/png": "[encoded data removed]",
      "text/plain": [
       "<matplotlib.figure.Figure at 0x134bd6a20>"
      ]
     },
     "metadata": {},
     "output_type": "display_data"
    }
   ],
   "source": [
    "sns.distplot((table_desc))"
   ]
  },
  {
   "cell_type": "code",
   "execution_count": 111,
   "metadata": {
    "scrolled": false
   },
   "outputs": [
    {
     "name": "stderr",
     "output_type": "stream",
     "text": [
      "/anaconda/lib/python3.6/site-packages/statsmodels/nonparametric/kdetools.py:20: VisibleDeprecationWarning: using a non-integer number instead of an integer will result in an error in the future\n",
      "  y = X[:m/2+1] + np.r_[0,X[m/2+1:],0]*1j\n"
     ]
    },
    {
     "data": {
      "text/plain": [
       "<matplotlib.axes._subplots.AxesSubplot at 0x13329d5f8>"
      ]
     },
     "execution_count": 111,
     "metadata": {},
     "output_type": "execute_result"
    },
    {
     "data": {
      "image/png": "[encoded data removed]",
      "text/plain": [
       "<matplotlib.figure.Figure at 0x13328d198>"
      ]
     },
     "metadata": {},
     "output_type": "display_data"
    }
   ],
   "source": [
    "from numpy import log\n",
    "sns.distplot(log(table_desc.values))"
   ]
  },
  {
   "cell_type": "code",
   "execution_count": 131,
   "metadata": {
    "collapsed": true
   },
   "outputs": [],
   "source": [
    "active_users = table_desc[:100].index"
   ]
  },
  {
   "cell_type": "code",
   "execution_count": 101,
   "metadata": {
    "collapsed": true
   },
   "outputs": [],
   "source": [
    "large_checkin_sample = sample_table('checkins', 100000)"
   ]
  },
  {
   "cell_type": "code",
   "execution_count": 91,
   "metadata": {
    "collapsed": true
   },
   "outputs": [],
   "source": [
    "checkin_counts = {}\n",
    "\n",
    "for user in active_users:\n",
    "    df = large_checkin_sample[large_checkin_sample.user_id == user]\n",
    "    user_checkins_count = len(df)\n",
    "    checkin_counts[user] = user_checkins_count\n",
    "    "
   ]
  },
  {
   "cell_type": "code",
   "execution_count": 138,
   "metadata": {},
   "outputs": [],
   "source": [
    "# pd.Series(checkin_counts).sort_values(ascending=False)\n",
    "# "
   ]
  },
  {
   "cell_type": "code",
   "execution_count": 75,
   "metadata": {},
   "outputs": [
    {
     "data": {
      "text/html": [
       "<div>\n",
       "<table border=\"1\" class=\"dataframe\">\n",
       "  <thead>\n",
       "    <tr style=\"text-align: right;\">\n",
       "      <th></th>\n",
       "      <th></th>\n",
       "      <th>_id</th>\n",
       "      <th>first_user_id</th>\n",
       "      <th>second_user_id</th>\n",
       "    </tr>\n",
       "  </thead>\n",
       "  <tbody>\n",
       "    <tr>\n",
       "      <th>199</th>\n",
       "      <td>1213202</td>\n",
       "      <td>59922838ef1d5d902396f981</td>\n",
       "      <td>754</td>\n",
       "      <td>244639.0</td>\n",
       "    </tr>\n",
       "    <tr>\n",
       "      <th>222</th>\n",
       "      <td>1266548</td>\n",
       "      <td>59922838ef1d5d902397ca18</td>\n",
       "      <td>754</td>\n",
       "      <td>252292.0</td>\n",
       "    </tr>\n",
       "    <tr>\n",
       "      <th>721</th>\n",
       "      <td>2976840</td>\n",
       "      <td>59922845ef1d5d9023b1e99c</td>\n",
       "      <td>754</td>\n",
       "      <td>250165.0</td>\n",
       "    </tr>\n",
       "    <tr>\n",
       "      <th>847</th>\n",
       "      <td>1270128</td>\n",
       "      <td>59922838ef1d5d902397d818</td>\n",
       "      <td>754</td>\n",
       "      <td>119785.0</td>\n",
       "    </tr>\n",
       "    <tr>\n",
       "      <th>920</th>\n",
       "      <td>1209940</td>\n",
       "      <td>59922838ef1d5d902396ecbf</td>\n",
       "      <td>754</td>\n",
       "      <td>36545.0</td>\n",
       "    </tr>\n",
       "  </tbody>\n",
       "</table>\n",
       "</div>"
      ],
      "text/plain": [
       "                                   _id  first_user_id  second_user_id\n",
       "199  1213202  59922838ef1d5d902396f981            754        244639.0\n",
       "222  1266548  59922838ef1d5d902397ca18            754        252292.0\n",
       "721  2976840  59922845ef1d5d9023b1e99c            754        250165.0\n",
       "847  1270128  59922838ef1d5d902397d818            754        119785.0\n",
       "920  1209940  59922838ef1d5d902396ecbf            754         36545.0"
      ]
     },
     "execution_count": 75,
     "metadata": {},
     "output_type": "execute_result"
    }
   ],
   "source": [
    "very_active_friender = socialgraph[socialgraph.first_user_id == 754]\n",
    "very_active_friender.head()"
   ]
  },
  {
   "cell_type": "code",
   "execution_count": 20,
   "metadata": {},
   "outputs": [
    {
     "data": {
      "text/html": [
       "<div>\n",
       "<table border=\"1\" class=\"dataframe\">\n",
       "  <thead>\n",
       "    <tr style=\"text-align: right;\">\n",
       "      <th></th>\n",
       "      <th></th>\n",
       "      <th>_id</th>\n",
       "      <th>first_user_id</th>\n",
       "      <th>second_user_id</th>\n",
       "    </tr>\n",
       "  </thead>\n",
       "  <tbody>\n",
       "    <tr>\n",
       "      <th>0</th>\n",
       "      <td>14960713</td>\n",
       "      <td>599228a2ef1d5d902368f476</td>\n",
       "      <td>133507</td>\n",
       "      <td>63584.0</td>\n",
       "    </tr>\n",
       "    <tr>\n",
       "      <th>1</th>\n",
       "      <td>1898764</td>\n",
       "      <td>5992283def1d5d9023a17228</td>\n",
       "      <td>74993</td>\n",
       "      <td>352238.0</td>\n",
       "    </tr>\n",
       "    <tr>\n",
       "      <th>2</th>\n",
       "      <td>21619204</td>\n",
       "      <td>599228d6ef1d5d9023cea83a</td>\n",
       "      <td>749096</td>\n",
       "      <td>725599.0</td>\n",
       "    </tr>\n",
       "    <tr>\n",
       "      <th>3</th>\n",
       "      <td>14563149</td>\n",
       "      <td>5992289eef1d5d902362e1ed</td>\n",
       "      <td>172735</td>\n",
       "      <td>43373.0</td>\n",
       "    </tr>\n",
       "    <tr>\n",
       "      <th>4</th>\n",
       "      <td>487848</td>\n",
       "      <td>59922833ef1d5d90238be541</td>\n",
       "      <td>59</td>\n",
       "      <td>39054.0</td>\n",
       "    </tr>\n",
       "  </tbody>\n",
       "</table>\n",
       "</div>"
      ],
      "text/plain": [
       "                                  _id  first_user_id  second_user_id\n",
       "0  14960713  599228a2ef1d5d902368f476         133507         63584.0\n",
       "1   1898764  5992283def1d5d9023a17228          74993        352238.0\n",
       "2  21619204  599228d6ef1d5d9023cea83a         749096        725599.0\n",
       "3  14563149  5992289eef1d5d902362e1ed         172735         43373.0\n",
       "4    487848  59922833ef1d5d90238be541             59         39054.0"
      ]
     },
     "execution_count": 20,
     "metadata": {},
     "output_type": "execute_result"
    }
   ],
   "source": [
    "socialgraph.head()"
   ]
  },
  {
   "cell_type": "code",
   "execution_count": 124,
   "metadata": {},
   "outputs": [
    {
     "data": {
      "text/plain": [
       "{'avgObjSize': 73.58613805312548,\n",
       " 'collections': 5,\n",
       " 'dataSize': 2518602724.0,\n",
       " 'db': 'dbmg',\n",
       " 'indexSize': 310673408.0,\n",
       " 'indexes': 5,\n",
       " 'numExtents': 0,\n",
       " 'objects': 34226592,\n",
       " 'ok': 1.0,\n",
       " 'storageSize': 867368960.0,\n",
       " 'views': 0}"
      ]
     },
     "execution_count": 124,
     "metadata": {},
     "output_type": "execute_result"
    }
   ],
   "source": [
    "db.command(\"dbstats\")"
   ]
  },
  {
   "cell_type": "code",
   "execution_count": 130,
   "metadata": {},
   "outputs": [
    {
     "name": "stdout",
     "output_type": "stream",
     "text": [
      "checkins \n",
      "\n",
      "1021966\n",
      "\n",
      "\n",
      "ratings \n",
      "\n",
      "2809580\n",
      "\n",
      "\n",
      "socialgraph \n",
      "\n",
      "27098487\n",
      "\n",
      "\n",
      "users \n",
      "\n",
      "2153469\n",
      "\n",
      "\n",
      "venues \n",
      "\n",
      "1143090\n",
      "\n",
      "\n"
     ]
    }
   ],
   "source": [
    "cols = ['checkins',\n",
    "'ratings',\n",
    "'socialgraph',\n",
    "'users',\n",
    "'venues']\n",
    "\n",
    "for x in cols:\n",
    "    a = db.command(\"collstats\", x)\n",
    "    print(x,'\\n')\n",
    "    print(a['count'])\n",
    "    print('\\n')"
   ]
  },
  {
   "cell_type": "markdown",
   "metadata": {
    "collapsed": true
   },
   "source": [
    "### Ratings Review"
   ]
  },
  {
   "cell_type": "code",
   "execution_count": 137,
   "metadata": {},
   "outputs": [
    {
     "data": {
      "text/html": [
       "<div>\n",
       "<table border=\"1\" class=\"dataframe\">\n",
       "  <thead>\n",
       "    <tr style=\"text-align: right;\">\n",
       "      <th></th>\n",
       "      <th></th>\n",
       "      <th>rating</th>\n",
       "      <th>user_id</th>\n",
       "      <th>venue_id</th>\n",
       "    </tr>\n",
       "  </thead>\n",
       "  <tbody>\n",
       "    <tr>\n",
       "      <th>count</th>\n",
       "      <td>1.000000e+03</td>\n",
       "      <td>1000.000000</td>\n",
       "      <td>1.000000e+03</td>\n",
       "      <td>1.000000e+03</td>\n",
       "    </tr>\n",
       "    <tr>\n",
       "      <th>mean</th>\n",
       "      <td>1.439748e+06</td>\n",
       "      <td>3.494000</td>\n",
       "      <td>5.962304e+05</td>\n",
       "      <td>3.408340e+05</td>\n",
       "    </tr>\n",
       "    <tr>\n",
       "      <th>std</th>\n",
       "      <td>8.062914e+05</td>\n",
       "      <td>1.278123</td>\n",
       "      <td>6.769656e+05</td>\n",
       "      <td>3.445637e+05</td>\n",
       "    </tr>\n",
       "    <tr>\n",
       "      <th>min</th>\n",
       "      <td>6.930000e+02</td>\n",
       "      <td>2.000000</td>\n",
       "      <td>3.800000e+01</td>\n",
       "      <td>6.000000e+01</td>\n",
       "    </tr>\n",
       "    <tr>\n",
       "      <th>25%</th>\n",
       "      <td>7.478865e+05</td>\n",
       "      <td>2.000000</td>\n",
       "      <td>6.543350e+04</td>\n",
       "      <td>3.451650e+04</td>\n",
       "    </tr>\n",
       "    <tr>\n",
       "      <th>50%</th>\n",
       "      <td>1.474142e+06</td>\n",
       "      <td>4.000000</td>\n",
       "      <td>2.081425e+05</td>\n",
       "      <td>2.104800e+05</td>\n",
       "    </tr>\n",
       "    <tr>\n",
       "      <th>75%</th>\n",
       "      <td>2.147432e+06</td>\n",
       "      <td>5.000000</td>\n",
       "      <td>1.184544e+06</td>\n",
       "      <td>5.965252e+05</td>\n",
       "    </tr>\n",
       "    <tr>\n",
       "      <th>max</th>\n",
       "      <td>2.807926e+06</td>\n",
       "      <td>5.000000</td>\n",
       "      <td>2.151900e+06</td>\n",
       "      <td>1.140015e+06</td>\n",
       "    </tr>\n",
       "  </tbody>\n",
       "</table>\n",
       "</div>"
      ],
      "text/plain": [
       "                          rating       user_id      venue_id\n",
       "count  1.000000e+03  1000.000000  1.000000e+03  1.000000e+03\n",
       "mean   1.439748e+06     3.494000  5.962304e+05  3.408340e+05\n",
       "std    8.062914e+05     1.278123  6.769656e+05  3.445637e+05\n",
       "min    6.930000e+02     2.000000  3.800000e+01  6.000000e+01\n",
       "25%    7.478865e+05     2.000000  6.543350e+04  3.451650e+04\n",
       "50%    1.474142e+06     4.000000  2.081425e+05  2.104800e+05\n",
       "75%    2.147432e+06     5.000000  1.184544e+06  5.965252e+05\n",
       "max    2.807926e+06     5.000000  2.151900e+06  1.140015e+06"
      ]
     },
     "execution_count": 137,
     "metadata": {},
     "output_type": "execute_result"
    }
   ],
   "source": [
    "ratings.describe()"
   ]
  },
  {
   "cell_type": "code",
   "execution_count": 144,
   "metadata": {},
   "outputs": [],
   "source": [
    "table_r = pd.pivot_table(ratings, values='venue_id', index=['user_id'],\n",
    "         aggfunc=np.count_nonzero)"
   ]
  },
  {
   "cell_type": "code",
   "execution_count": null,
   "metadata": {},
   "outputs": [],
   "source": []
  },
  {
   "cell_type": "markdown",
   "metadata": {
    "collapsed": true
   },
   "source": [
    "### Looking @ number of nodes in 100,000 random social relationships"
   ]
  },
  {
   "cell_type": "code",
   "execution_count": 79,
   "metadata": {
    "collapsed": true
   },
   "outputs": [],
   "source": [
    "import networkx as nx\n",
    "G=nx.Graph()\n"
   ]
  },
  {
   "cell_type": "code",
   "execution_count": 80,
   "metadata": {
    "collapsed": true
   },
   "outputs": [],
   "source": [
    "for index, row in socialgraph.iterrows():\n",
    "    G.add_edge(row.first_user_id,row.second_user_id)"
   ]
  },
  {
   "cell_type": "code",
   "execution_count": 81,
   "metadata": {},
   "outputs": [
    {
     "data": {
      "text/plain": [
       "112406"
      ]
     },
     "execution_count": 81,
     "metadata": {},
     "output_type": "execute_result"
    }
   ],
   "source": [
    "G.number_of_nodes()"
   ]
  },
  {
   "cell_type": "code",
   "execution_count": 153,
   "metadata": {},
   "outputs": [
    {
     "data": {
      "text/plain": [
       "1.570099375168561e-05"
      ]
     },
     "execution_count": 153,
     "metadata": {},
     "output_type": "execute_result"
    }
   ],
   "source": [
    "nx.density(G)"
   ]
  },
  {
   "cell_type": "code",
   "execution_count": 154,
   "metadata": {},
   "outputs": [
    {
     "data": {
      "text/html": [
       "<div>\n",
       "<table border=\"1\" class=\"dataframe\">\n",
       "  <thead>\n",
       "    <tr style=\"text-align: right;\">\n",
       "      <th></th>\n",
       "      <th></th>\n",
       "      <th>_id</th>\n",
       "      <th>rating</th>\n",
       "      <th>user_id</th>\n",
       "      <th>venue_id</th>\n",
       "    </tr>\n",
       "  </thead>\n",
       "  <tbody>\n",
       "    <tr>\n",
       "      <th>0</th>\n",
       "      <td>150436</td>\n",
       "      <td>59922819ef1d5d90235bd400</td>\n",
       "      <td>4.0</td>\n",
       "      <td>11570</td>\n",
       "      <td>307633.0</td>\n",
       "    </tr>\n",
       "    <tr>\n",
       "      <th>1</th>\n",
       "      <td>185173</td>\n",
       "      <td>5992281aef1d5d90235c5bd4</td>\n",
       "      <td>4.0</td>\n",
       "      <td>14056</td>\n",
       "      <td>298713.0</td>\n",
       "    </tr>\n",
       "    <tr>\n",
       "      <th>2</th>\n",
       "      <td>2109624</td>\n",
       "      <td>5992282aef1d5d902379c0bd</td>\n",
       "      <td>2.0</td>\n",
       "      <td>1087708</td>\n",
       "      <td>280373.0</td>\n",
       "    </tr>\n",
       "    <tr>\n",
       "      <th>3</th>\n",
       "      <td>1369248</td>\n",
       "      <td>59922823ef1d5d90236e71bf</td>\n",
       "      <td>5.0</td>\n",
       "      <td>155144</td>\n",
       "      <td>47295.0</td>\n",
       "    </tr>\n",
       "    <tr>\n",
       "      <th>4</th>\n",
       "      <td>1455650</td>\n",
       "      <td>59922824ef1d5d90236fc397</td>\n",
       "      <td>5.0</td>\n",
       "      <td>191007</td>\n",
       "      <td>1096271.0</td>\n",
       "    </tr>\n",
       "  </tbody>\n",
       "</table>\n",
       "</div>"
      ],
      "text/plain": [
       "                                 _id  rating  user_id   venue_id\n",
       "0   150436  59922819ef1d5d90235bd400     4.0    11570   307633.0\n",
       "1   185173  5992281aef1d5d90235c5bd4     4.0    14056   298713.0\n",
       "2  2109624  5992282aef1d5d902379c0bd     2.0  1087708   280373.0\n",
       "3  1369248  59922823ef1d5d90236e71bf     5.0   155144    47295.0\n",
       "4  1455650  59922824ef1d5d90236fc397     5.0   191007  1096271.0"
      ]
     },
     "execution_count": 154,
     "metadata": {},
     "output_type": "execute_result"
    }
   ],
   "source": [
    "ratings.head()"
   ]
  },
  {
   "cell_type": "markdown",
   "metadata": {
    "collapsed": true
   },
   "source": [
    "### Venues Rankings vs Amount of Rankings"
   ]
  },
  {
   "cell_type": "code",
   "execution_count": 210,
   "metadata": {},
   "outputs": [],
   "source": [
    "a = db.ratings.aggregate([\n",
    "   {\n",
    "     '$project': {\n",
    "        '_id' : '$venue_id',\n",
    "       'ratingAvg': { '$avg': \"$rating\"}\n",
    "     }\n",
    "   }\n",
    "])"
   ]
  },
  {
   "cell_type": "code",
   "execution_count": 211,
   "metadata": {},
   "outputs": [],
   "source": [
    "average_ratings = list(a)"
   ]
  },
  {
   "cell_type": "code",
   "execution_count": null,
   "metadata": {
    "collapsed": true
   },
   "outputs": [],
   "source": [
    "df = pd.DataFrame(average_ratings)"
   ]
  },
  {
   "cell_type": "code",
   "execution_count": 220,
   "metadata": {},
   "outputs": [
    {
     "name": "stderr",
     "output_type": "stream",
     "text": [
      "/anaconda/lib/python3.6/site-packages/statsmodels/nonparametric/kdetools.py:20: VisibleDeprecationWarning: using a non-integer number instead of an integer will result in an error in the future\n",
      "  y = X[:m/2+1] + np.r_[0,X[m/2+1:],0]*1j\n"
     ]
    },
    {
     "data": {
      "text/plain": [
       "<matplotlib.axes._subplots.AxesSubplot at 0x635395390>"
      ]
     },
     "execution_count": 220,
     "metadata": {},
     "output_type": "execute_result"
    },
    {
     "data": {
      "image/png": "[encoded data removed]",
      "text/plain": [
       "<matplotlib.figure.Figure at 0x623001860>"
      ]
     },
     "metadata": {},
     "output_type": "display_data"
    }
   ],
   "source": [
    "sns.distplot(df['ratingAvg'])"
   ]
  },
  {
   "cell_type": "code",
   "execution_count": 219,
   "metadata": {},
   "outputs": [
    {
     "data": {
      "text/html": [
       "<div>\n",
       "<table border=\"1\" class=\"dataframe\">\n",
       "  <thead>\n",
       "    <tr style=\"text-align: right;\">\n",
       "      <th></th>\n",
       "      <th>_id</th>\n",
       "      <th>ratingAvg</th>\n",
       "    </tr>\n",
       "  </thead>\n",
       "  <tbody>\n",
       "    <tr>\n",
       "      <th>0</th>\n",
       "      <td>1.0</td>\n",
       "      <td>5.0</td>\n",
       "    </tr>\n",
       "    <tr>\n",
       "      <th>1</th>\n",
       "      <td>51.0</td>\n",
       "      <td>4.0</td>\n",
       "    </tr>\n",
       "    <tr>\n",
       "      <th>2</th>\n",
       "      <td>51.0</td>\n",
       "      <td>2.0</td>\n",
       "    </tr>\n",
       "    <tr>\n",
       "      <th>3</th>\n",
       "      <td>51.0</td>\n",
       "      <td>5.0</td>\n",
       "    </tr>\n",
       "    <tr>\n",
       "      <th>4</th>\n",
       "      <td>52.0</td>\n",
       "      <td>5.0</td>\n",
       "    </tr>\n",
       "  </tbody>\n",
       "</table>\n",
       "</div>"
      ],
      "text/plain": [
       "    _id  ratingAvg\n",
       "0   1.0        5.0\n",
       "1  51.0        4.0\n",
       "2  51.0        2.0\n",
       "3  51.0        5.0\n",
       "4  52.0        5.0"
      ]
     },
     "execution_count": 219,
     "metadata": {},
     "output_type": "execute_result"
    }
   ],
   "source": []
  },
  {
   "cell_type": "code",
   "execution_count": null,
   "metadata": {
    "collapsed": true
   },
   "outputs": [],
   "source": [
    "client.close()"
   ]
  }
 ],
 "metadata": {
  "kernelspec": {
   "display_name": "Python 3",
   "language": "python",
   "name": "python3"
  },
  "language_info": {
   "codemirror_mode": {
    "name": "ipython",
    "version": 3
   },
   "file_extension": ".py",
   "mimetype": "text/x-python",
   "name": "python",
   "nbconvert_exporter": "python",
   "pygments_lexer": "ipython3",
   "version": "3.6.0"
  }
 },
 "nbformat": 4,
 "nbformat_minor": 2
}
